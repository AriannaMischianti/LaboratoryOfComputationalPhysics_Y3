{
 "cells": [
  {
   "cell_type": "markdown",
   "metadata": {},
   "source": [
    "1. The MickeyMouse problem\n",
    "\n",
    "a) Write a program that prints the numbers from 1 to 100. But for multiples of three print Mickey instead of the number and for the multiples of five print Mouse. For numbers which are multiples of both three and five print MickeyMouse\n",
    "\n",
    "b) Put the result in a tuple and substitute Mickey with Donald and Mouse with Duck"
   ]
  },
  {
   "cell_type": "code",
   "execution_count": 27,
   "metadata": {},
   "outputs": [
    {
     "name": "stdout",
     "output_type": "stream",
     "text": [
      "1\n",
      "2\n",
      "Mikey\n",
      "4\n",
      "Mouse\n",
      "Mikey\n",
      "7\n",
      "8\n",
      "Mikey\n",
      "Mouse\n",
      "11\n",
      "Mikey\n",
      "13\n",
      "14\n",
      "MikeyMouse\n",
      "16\n",
      "17\n",
      "Mikey\n",
      "19\n",
      "Mouse\n",
      "Mikey\n",
      "22\n",
      "23\n",
      "Mikey\n",
      "Mouse\n",
      "26\n",
      "Mikey\n",
      "28\n",
      "29\n",
      "MikeyMouse\n",
      "31\n",
      "32\n",
      "Mikey\n",
      "34\n",
      "Mouse\n",
      "Mikey\n",
      "37\n",
      "38\n",
      "Mikey\n",
      "Mouse\n",
      "41\n",
      "Mikey\n",
      "43\n",
      "44\n",
      "MikeyMouse\n",
      "46\n",
      "47\n",
      "Mikey\n",
      "49\n",
      "Mouse\n",
      "Mikey\n",
      "52\n",
      "53\n",
      "Mikey\n",
      "Mouse\n",
      "56\n",
      "Mikey\n",
      "58\n",
      "59\n",
      "MikeyMouse\n",
      "61\n",
      "62\n",
      "Mikey\n",
      "64\n",
      "Mouse\n",
      "Mikey\n",
      "67\n",
      "68\n",
      "Mikey\n",
      "Mouse\n",
      "71\n",
      "Mikey\n",
      "73\n",
      "74\n",
      "MikeyMouse\n",
      "76\n",
      "77\n",
      "Mikey\n",
      "79\n",
      "Mouse\n",
      "Mikey\n",
      "82\n",
      "83\n",
      "Mikey\n",
      "Mouse\n",
      "86\n",
      "Mikey\n",
      "88\n",
      "89\n",
      "MikeyMouse\n",
      "91\n",
      "92\n",
      "Mikey\n",
      "94\n",
      "Mouse\n",
      "Mikey\n",
      "97\n",
      "98\n",
      "Mikey\n",
      "Mouse\n",
      "(1, 2, 'Donald', 4, 'Duck', 'Donald', 7, 8, 'Donald', 'Duck', 11, 'Donald', 13, 14, 'MickeyMouse', 16, 17, 'Donald', 19, 'Duck', 'Donald', 22, 23, 'Donald', 'Duck', 26, 'Donald', 28, 29, 'MickeyMouse', 31, 32, 'Donald', 34, 'Duck', 'Donald', 37, 38, 'Donald', 'Duck', 41, 'Donald', 43, 44, 'MickeyMouse', 46, 47, 'Donald', 49, 'Duck', 'Donald', 52, 53, 'Donald', 'Duck', 56, 'Donald', 58, 59, 'MickeyMouse', 61, 62, 'Donald', 64, 'Duck', 'Donald', 67, 68, 'Donald', 'Duck', 71, 'Donald', 73, 74, 'MickeyMouse', 76, 77, 'Donald', 79, 'Duck', 'Donald', 82, 83, 'Donald', 'Duck', 86, 'Donald', 88, 89, 'MickeyMouse', 91, 92, 'Donald', 94, 'Duck', 'Donald', 97, 98, 'Donald', 'Duck')\n"
     ]
    }
   ],
   "source": [
    "for i in range (1,101):\n",
    "    if i%3 == 0 and i%5 != 0:\n",
    "        print(\"Mikey\")\n",
    "    elif i%5 == 0 and i%3 != 0:\n",
    "        print(\"Mouse\")\n",
    "    elif i%3 == 0 and i%5 == 0:\n",
    "        print (\"MikeyMouse\")\n",
    "    else:\n",
    "        print(i)\n",
    "#Oppure più velocemente, senza usare tutti questi and e diversi (!=) si ha che un elif è ESCLUSIVO quindi va bene anche\n",
    "#for i in range (1,101):\n",
    "#    if i%15 == 0 :\n",
    "#        i=\"MikeyMouse\"\n",
    "#    elif i%3 == 0:\n",
    "#        i=\"Mikey\"\n",
    "#    elif i%5 == 0:\n",
    "#        i=\"Mouse\"\n",
    "#    print(i)\n",
    "#\n",
    "#b) Put the result in a tuple and substitute Mickey with Donald and Mouse with Duck\n",
    "tupT=()\n",
    "for i in range (1,101):\n",
    "    if i%15 == 0 :\n",
    "        i=\"MickeyMouse\"\n",
    "    elif i%3 == 0:\n",
    "        i=\"Mickey\"\n",
    "    elif i%5 == 0:\n",
    "        i=\"Mouse\"\n",
    "    if i == \"Mickey\":\n",
    "        i = \"Donald\"\n",
    "    elif i == \"Mouse\":\n",
    "        i = \"Duck\"\n",
    "    tup=(i,)\n",
    "    tupT=tupT+tup\n",
    "print (tupT)"
   ]
  },
  {
   "cell_type": "markdown",
   "metadata": {},
   "source": [
    "2\\. The swap function\n",
    "\n",
    "Write a function that swap the values of two input variables x and y (whatever the type). Try to do that also without a temporary variable"
   ]
  },
  {
   "cell_type": "code",
   "execution_count": 5,
   "metadata": {},
   "outputs": [
    {
     "name": "stdout",
     "output_type": "stream",
     "text": [
      "2\n",
      "7\n",
      "7 2\n",
      "Variable       Type        Data/Info\n",
      "------------------------------------\n",
      "SwapFunction   function    <function SwapFunction at 0x000001AAE6903820>\n",
      "i              str         Duck\n",
      "tup            tuple       n=1\n",
      "tupT           tuple       n=100\n",
      "2\n",
      "7\n",
      "7 2\n",
      "Variable             Type        Data/Info\n",
      "------------------------------------------\n",
      "SwapFunction         function    <function SwapFunction at 0x000001AAE6903820>\n",
      "SwapFunctionMemory   function    <function SwapFunctionMem<...>ry at 0x000001AAE68458B0>\n",
      "i                    str         Duck\n",
      "tup                  tuple       n=1\n",
      "tupT                 tuple       n=100\n",
      "x                    str         2\n",
      "y                    str         7\n"
     ]
    }
   ],
   "source": [
    "def SwapFunction ():\n",
    "    x = input()\n",
    "    y = input()\n",
    "    x,y=y,x\n",
    "    print(x,y)\n",
    "SwapFunction ()\n",
    "#controllo se esistono le variabili in memoria\n",
    "%whos\n",
    "#without a temporary variable\n",
    "x = input()\n",
    "y = input()\n",
    "def SwapFunctionMemory (X,Y):\n",
    "        X,Y=Y,X\n",
    "        print(X,Y)\n",
    "SwapFunctionMemory (x,y)\n",
    "#controllo se esistono le variabili in memoria\n",
    "%whos"
   ]
  },
  {
   "cell_type": "markdown",
   "metadata": {},
   "source": [
    "3\\. Computing the distance\n",
    "\n",
    "Write a function that calculates and returns the euclidean distance between two points *u* and *v*, where *u* and *v* are both 2-tuples *(x,y)*. For example, if *u=(3,0)* and *v=(0,4)*, the function should return 5"
   ]
  },
  {
   "cell_type": "code",
   "execution_count": 6,
   "metadata": {},
   "outputs": [
    {
     "data": {
      "text/plain": [
       "5.0"
      ]
     },
     "execution_count": 6,
     "metadata": {},
     "output_type": "execute_result"
    }
   ],
   "source": [
    "u=(3,0)\n",
    "v=(0,4)\n",
    "def EuclideanDistance (U,V):\n",
    "    d=pow(pow(U[0]-V[0],2)+pow(U[1]-V[1],2),.5)\n",
    "    return d\n",
    "EuclideanDistance(u,v)"
   ]
  },
  {
   "cell_type": "markdown",
   "metadata": {},
   "source": [
    "4\\. Counting letters\n",
    "\n",
    "Write a program to calculate the number of times each character occurs in a given string *s*. Ignore differneces in capitalization"
   ]
  },
  {
   "cell_type": "code",
   "execution_count": 7,
   "metadata": {},
   "outputs": [],
   "source": [
    "s=\"Write a program that prints the numbers from 1 to 100. \\\n",
    "But for multiples of three print Mickey instead of the number and for the multiples of five print Mouse. \\\n",
    "For numbers which are multiples of both three and five print MickeyMouse\""
   ]
  },
  {
   "cell_type": "code",
   "execution_count": 8,
   "metadata": {},
   "outputs": [
    {
     "data": {
      "text/plain": [
       "Counter({'w': 2,\n",
       "         'r': 17,\n",
       "         'i': 14,\n",
       "         't': 19,\n",
       "         'e': 22,\n",
       "         ' ': 41,\n",
       "         'a': 7,\n",
       "         'p': 8,\n",
       "         'o': 13,\n",
       "         'g': 1,\n",
       "         'm': 12,\n",
       "         'h': 9,\n",
       "         'n': 10,\n",
       "         's': 9,\n",
       "         'u': 9,\n",
       "         'b': 5,\n",
       "         'f': 10,\n",
       "         '1': 2,\n",
       "         '0': 2,\n",
       "         '.': 2,\n",
       "         'l': 6,\n",
       "         'c': 3,\n",
       "         'k': 2,\n",
       "         'y': 2,\n",
       "         'd': 3,\n",
       "         'v': 2})"
      ]
     },
     "execution_count": 8,
     "metadata": {},
     "output_type": "execute_result"
    }
   ],
   "source": [
    "#Il dizionario Counter è un contenitore che traccia quante volte si hanno dei valori equivalenti. \n",
    "#Per poterlo utilizzare si deve importare. Per non fare distizioni fra maiuscole e minuscole si converte la stringa tutta in minuscolo.\n",
    "from collections import Counter\n",
    "s=\"Write a program that prints the numbers from 1 to 100. \\\n",
    "But for multiples of three print Mickey instead of the number and for the multiples of five print Mouse. \\\n",
    "For numbers which are multiples of both three and five print MickeyMouse\"\n",
    "Counter(s.lower())"
   ]
  },
  {
   "cell_type": "markdown",
   "metadata": {},
   "source": [
    "5\\. Isolating the unique\n",
    "\n",
    "Write a function that determines and count the unique numbers in the list *l*"
   ]
  },
  {
   "cell_type": "code",
   "execution_count": null,
   "metadata": {},
   "outputs": [],
   "source": [
    "l = [36, 45, 58, 3, 74, 96, 64, 45, 31, 10, 24, 19, 33, 86, 99, 18, 63, 70, 85,\n",
    " 85, 63, 47, 56, 42, 70, 84, 88, 55, 20, 54, 8, 56, 51, 79, 81, 57, 37, 91,\n",
    " 1, 84, 84, 36, 66, 9, 89, 50, 42, 91, 50, 95, 90, 98, 39, 16, 82, 31, 92, 41,\n",
    " 45, 30, 66, 70, 34, 85, 94, 5, 3, 36, 72, 91, 84, 34, 87, 75, 53, 51, 20, 89, 51, 20]"
   ]
  },
  {
   "cell_type": "code",
   "execution_count": 26,
   "metadata": {},
   "outputs": [
    {
     "name": "stdout",
     "output_type": "stream",
     "text": [
      "{36: 3, 45: 3, 58: 1, 3: 2, 74: 1, 96: 1, 64: 1, 31: 2, 10: 1, 24: 1, 19: 1, 33: 1, 86: 1, 99: 1, 18: 1, 63: 2, 70: 3, 85: 3, 47: 1, 56: 2, 42: 2, 84: 4, 88: 1, 55: 1, 20: 3, 54: 1, 8: 1, 51: 3, 79: 1, 81: 1, 57: 1, 37: 1, 91: 3, 1: 1, 66: 2, 9: 1, 89: 2, 50: 2, 95: 1, 90: 1, 98: 1, 39: 1, 16: 1, 82: 1, 92: 1, 41: 1, 30: 1, 34: 2, 94: 1, 5: 1, 72: 1, 87: 1, 75: 1, 53: 1}\n",
      "[58, 74, 96, 64, 10, 24, 19, 33, 86, 99, 18, 47, 88, 55, 54, 8, 79, 81, 57, 37, 1, 9, 95, 90, 98, 39, 16, 82, 92, 41, 30, 94, 5, 72, 87, 75, 53]\n",
      "37\n"
     ]
    }
   ],
   "source": [
    "l = [36, 45, 58, 3, 74, 96, 64, 45, 31, 10, 24, 19, 33, 86, 99, 18, 63, 70, 85,\n",
    " 85, 63, 47, 56, 42, 70, 84, 88, 55, 20, 54, 8, 56, 51, 79, 81, 57, 37, 91,\n",
    " 1, 84, 84, 36, 66, 9, 89, 50, 42, 91, 50, 95, 90, 98, 39, 16, 82, 31, 92, 41,\n",
    " 45, 30, 66, 70, 34, 85, 94, 5, 3, 36, 72, 91, 84, 34, 87, 75, 53, 51, 20, 89, 51, 20]\n",
    "def IsolatingTheUnique(L):\n",
    "    freq = {}\n",
    "    for i in range(0,len(L)):\n",
    "            if L[i] in freq:\n",
    "                freq[L[i]]+=1\n",
    "            else:\n",
    "                freq[L[i]]=1\n",
    "    print(freq)\n",
    "    L_unique=[]\n",
    "    for i in freq:\n",
    "        if freq[i]==1:\n",
    "            L_unique.append(i)\n",
    "    print(L_unique)\n",
    "    print(len(L_unique))\n",
    "IsolatingTheUnique(l)\n",
    "#in alternativa si può utilizzare la funzione lista.count() che ti conta quante volte si ha un determinato valore in una lista"
   ]
  },
  {
   "cell_type": "markdown",
   "metadata": {},
   "source": [
    "6\\. Combination of functions\n",
    "\n",
    "Write two functions - one that returns the square of a number, and one that returns the cube. Now write a third function that returns the number raised to the 6th power using the two previous functions."
   ]
  },
  {
   "cell_type": "code",
   "execution_count": 10,
   "metadata": {},
   "outputs": [
    {
     "name": "stdout",
     "output_type": "stream",
     "text": [
      "4\n",
      "16.0\n",
      "64.0\n",
      "4096.0\n"
     ]
    }
   ],
   "source": [
    "def Square(n):\n",
    "    s = pow(n,2)\n",
    "    return s\n",
    "def Cube(m):\n",
    "    t = pow(m,3)\n",
    "    return t\n",
    "def SixthPower(l):\n",
    "    p = Square(Cube(l))\n",
    "    return p\n",
    "x = float(input())\n",
    "print(Square(x))\n",
    "print(Cube(x))\n",
    "print(SixthPower(x))"
   ]
  },
  {
   "cell_type": "markdown",
   "metadata": {},
   "source": [
    "7\\. Cubes\n",
    "\n",
    "Create a list of the cubes of x for x in *[0, 10]* using:\n",
    "\n",
    "a) a for loop\n",
    "\n",
    "b) a list comprehension"
   ]
  },
  {
   "cell_type": "code",
   "execution_count": 28,
   "metadata": {},
   "outputs": [
    {
     "name": "stdout",
     "output_type": "stream",
     "text": [
      "[0, 1, 8, 27, 64, 125, 216, 343, 512, 729, 1000]\n",
      "[0, 1, 8, 27, 64, 125, 216, 343, 512, 729, 1000]\n"
     ]
    }
   ],
   "source": [
    "numbers = [0,1,2,3,4,5,6,7,8,9,10]\n",
    "pows =[]\n",
    "for i in numbers:\n",
    "    pows.append(pow(i,3))\n",
    "print(pows)\n",
    "#b)\n",
    "pows =[pow(i,3) for i in range(0,11)]\n",
    "print(pows)"
   ]
  },
  {
   "cell_type": "markdown",
   "metadata": {},
   "source": [
    "8\\. Nested list comprehension\n",
    "\n",
    "A Pythagorean triple is an integer solution to the Pythagorean theorem $a^2+b^2=c^2$. The first Pythagorean triple is (3,4,5). Find and put in a tuple all unique Pythagorean triples for the positive integers a, b and c less than 100."
   ]
  },
  {
   "cell_type": "code",
   "execution_count": 15,
   "metadata": {},
   "outputs": [
    {
     "name": "stdout",
     "output_type": "stream",
     "text": [
      "((3, 4, 5), (4, 3, 5), (5, 12, 13), (6, 8, 10), (7, 24, 25), (8, 6, 10), (8, 15, 17), (9, 12, 15), (9, 40, 41), (10, 24, 26), (11, 60, 61), (12, 5, 13), (12, 9, 15), (12, 16, 20), (12, 35, 37), (13, 84, 85), (14, 48, 50), (15, 8, 17), (15, 20, 25), (15, 36, 39), (16, 12, 20), (16, 30, 34), (16, 63, 65), (18, 24, 30), (18, 80, 82), (20, 15, 25), (20, 21, 29), (20, 48, 52), (21, 20, 29), (21, 28, 35), (21, 72, 75), (24, 7, 25), (24, 10, 26), (24, 18, 30), (24, 32, 40), (24, 45, 51), (24, 70, 74), (25, 60, 65), (27, 36, 45), (28, 21, 35), (28, 45, 53), (28, 96, 100), (30, 16, 34), (30, 40, 50), (30, 72, 78), (32, 24, 40), (32, 60, 68), (33, 44, 55), (33, 56, 65), (35, 12, 37), (35, 84, 91), (36, 15, 39), (36, 27, 45), (36, 48, 60), (36, 77, 85), (39, 52, 65), (39, 80, 89), (40, 9, 41), (40, 30, 50), (40, 42, 58), (40, 75, 85), (42, 40, 58), (42, 56, 70), (44, 33, 55), (45, 24, 51), (45, 28, 53), (45, 60, 75), (48, 14, 50), (48, 20, 52), (48, 36, 60), (48, 55, 73), (48, 64, 80), (51, 68, 85), (52, 39, 65), (54, 72, 90), (55, 48, 73), (56, 33, 65), (56, 42, 70), (57, 76, 95), (60, 11, 61), (60, 25, 65), (60, 32, 68), (60, 45, 75), (60, 63, 87), (60, 80, 100), (63, 16, 65), (63, 60, 87), (64, 48, 80), (65, 72, 97), (68, 51, 85), (70, 24, 74), (72, 21, 75), (72, 30, 78), (72, 54, 90), (72, 65, 97), (75, 40, 85), (76, 57, 95), (77, 36, 85), (80, 18, 82), (80, 39, 89), (80, 60, 100), (84, 13, 85), (84, 35, 91), (96, 28, 100))\n"
     ]
    }
   ],
   "source": [
    "PyTriple = ()\n",
    "for a in range(1,101):\n",
    "    for b in range(1,101):\n",
    "        for c in range(1,101):\n",
    "            if pow(a,2)+pow(b,2)==pow(c,2):\n",
    "                PyTriple = PyTriple + ((a,b,c),)\n",
    "            else:\n",
    "                continue\n",
    "print (PyTriple)"
   ]
  },
  {
   "cell_type": "markdown",
   "metadata": {},
   "source": [
    "9\\. Normalization\n",
    "\n",
    "Write a function that takes a tuple of numbers and returns it with the entries normalized to one"
   ]
  },
  {
   "cell_type": "code",
   "execution_count": 29,
   "metadata": {},
   "outputs": [
    {
     "name": "stdout",
     "output_type": "stream",
     "text": [
      "(17, 72, 97, 8, 32, 15, 63, 97, 57, 60, 83, 48, 100, 26, 12, 62, 3, 49, 55, 77, 97, 98, 0, 89, 57, 34, 92, 29, 75, 13, 40, 3, 2, 3, 83, 69, 1, 48, 87, 27, 54, 92, 3, 67, 28, 97, 56, 63, 70, 29, 44, 29, 86, 28, 97, 58, 37, 2, 53, 71, 82, 12, 23, 80, 92, 37, 15, 95, 42, 92, 91, 64, 54, 64, 85, 24, 38, 36, 75, 63, 64, 50, 75, 4, 61, 31, 95, 51, 53, 85, 22, 46, 70, 89, 99, 86, 94, 47, 11, 56)\n",
      "(1, 1, 1, 1, 1, 1, 1, 1, 1, 1, 1, 1, 1, 1, 1, 1, 1, 1, 1, 1, 1, 1, 1, 1, 1, 1, 1, 1, 1, 1, 1, 1, 1, 1, 1, 1, 1, 1, 1, 1, 1, 1, 1, 1, 1, 1, 1, 1, 1, 1, 1, 1, 1, 1, 1, 1, 1, 1, 1, 1, 1, 1, 1, 1, 1, 1, 1, 1, 1, 1, 1, 1, 1, 1, 1, 1, 1, 1, 1, 1, 1, 1, 1, 1, 1, 1, 1, 1, 1, 1, 1, 1, 1, 1, 1, 1, 1, 1, 1, 1)\n"
     ]
    }
   ],
   "source": [
    "Tup=()\n",
    "# generate random integer values\n",
    "from random import seed\n",
    "from random import randint\n",
    "# seed random number generator\n",
    "seed(1)\n",
    "for i in range(0,100):\n",
    "    n = randint(0, 100) \n",
    "    Tup=Tup + (n,)\n",
    "print(Tup)\n",
    "def Normalization(tup):\n",
    "    L=list(tup)\n",
    "    for i in range(0,len(L)):\n",
    "        L[i]=1\n",
    "    tup=tuple(L)\n",
    "    print(tup)\n",
    "Normalization(Tup)"
   ]
  },
  {
   "cell_type": "code",
   "execution_count": null,
   "metadata": {},
   "outputs": [],
   "source": []
  }
 ],
 "metadata": {
  "kernelspec": {
   "display_name": "Python 3",
   "language": "python",
   "name": "python3"
  },
  "language_info": {
   "codemirror_mode": {
    "name": "ipython",
    "version": 3
   },
   "file_extension": ".py",
   "mimetype": "text/x-python",
   "name": "python",
   "nbconvert_exporter": "python",
   "pygments_lexer": "ipython3",
<<<<<<< HEAD
   "version": "3.8.3"
=======
   "version": "3.5.4"
>>>>>>> 21ca609028dba591e26192e563faf3132315010c
  }
 },
 "nbformat": 4,
 "nbformat_minor": 2
}
