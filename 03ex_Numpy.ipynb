{
 "cells": [
  {
   "cell_type": "markdown",
   "metadata": {},
   "source": [
    "### Numpy basics"
   ]
  },
  {
   "cell_type": "markdown",
   "metadata": {},
   "source": [
    "1\\. Find the row, column and overall means for the following matrix:\n",
    "\n",
    "```python\n",
    "m = np.arange(12).reshape((3,4))\n",
    "```"
   ]
  },
  {
   "cell_type": "code",
   "execution_count": 9,
   "metadata": {},
   "outputs": [
    {
     "name": "stdout",
     "output_type": "stream",
     "text": [
      "[[ 0  1  2  3]\n",
      " [ 4  5  6  7]\n",
      " [ 8  9 10 11]]\n",
      "la media per ogni riga è  (1.5, 5.5, 9.5)\n",
      "la media per ogni colonna è  (4.0, 5.0, 6.0, 7.0)\n",
      "la media totale è  5.5\n",
      "la media per ogni colonna è  [4. 5. 6. 7.]\n",
      "la media per ogni riga è  [1.5 5.5 9.5]\n",
      "la media totale è  5.5\n"
     ]
    }
   ],
   "source": [
    "import numpy as np \n",
    "m = np.arange(12).reshape((3,4))\n",
    "print(m)\n",
    "medie_righe=()\n",
    "for j in range(0,3):\n",
    "    somma=0\n",
    "    for i in m[j]:\n",
    "        somma=somma+i\n",
    "    somma=somma/4\n",
    "    medie_righe=medie_righe+(somma,)\n",
    "print('la media per ogni riga è ',medie_righe)\n",
    "medie_colonne=()\n",
    "for j in range(0,4):\n",
    "    som=0\n",
    "    for i in m[:,j]:\n",
    "        som=som+i\n",
    "    som=som/3\n",
    "    medie_colonne=medie_colonne+(som,)\n",
    "print('la media per ogni colonna è ',medie_colonne)\n",
    "med=0\n",
    "for j in range(0,4):\n",
    "    for i in range(0,3):\n",
    "        med=med+m[i,j]\n",
    "med=med/12\n",
    "print('la media totale è ',med)\n",
    "\n",
    "\n",
    "#oppure molto più rapidamente\n",
    "m = np.arange(12).reshape((3,4))\n",
    "rig=m.sum(axis=0)\n",
    "med_rig=rig/3\n",
    "col=m.sum(axis=1)\n",
    "med_col=col/4\n",
    "print('la media per ogni colonna è ',med_rig)\n",
    "print('la media per ogni riga è ',med_col)\n",
    "print('la media totale è ',m.mean())"
   ]
  },
  {
   "cell_type": "markdown",
   "metadata": {},
   "source": [
    "2\\. Find the outer product of the following two vecotrs\n",
    "\n",
    "```python\n",
    "u = np.array([1,3,5,7])\n",
    "v = np.array([2,4,6,8])\n",
    "```\n",
    "\n",
    "Do this in the following ways:\n",
    "\n",
    "   * Using the function outer in numpy\n",
    "   * Using a nested for loop or list comprehension\n",
    "   * Using numpy broadcasting operatoins\n"
   ]
  },
  {
   "cell_type": "code",
   "execution_count": 24,
   "metadata": {},
   "outputs": [
    {
     "name": "stdout",
     "output_type": "stream",
     "text": [
      "[[ 2  4  6  8]\n",
      " [ 6 12 18 24]\n",
      " [10 20 30 40]\n",
      " [14 28 42 56]] \n",
      " [[ 2  4  6  8]\n",
      " [ 6 12 18 24]\n",
      " [10 20 30 40]\n",
      " [14 28 42 56]] \n",
      " [[ 2  4  6  8]\n",
      " [ 6 12 18 24]\n",
      " [10 20 30 40]\n",
      " [14 28 42 56]]\n"
     ]
    }
   ],
   "source": [
    "u = np.array([1,3,5,7])\n",
    "v = np.array([2,4,6,8])\n",
    "#1\n",
    "out=np.outer(u,v)\n",
    "#2\n",
    "outt=np.array([[i*j for i in v] for j in u])\n",
    "#3\n",
    "U = np.tile(np.array([1,3,5,7]), (4,1)).T\n",
    "outtt=U*v\n",
    "print(out,'\\n',outt,'\\n',outtt)"
   ]
  },
  {
   "cell_type": "markdown",
   "metadata": {},
   "source": [
    "3\\. Create a 10 by 6 matrix of random uniform numbers. Set all rows with any entry less than 0.1 to be zero\n",
    "\n",
    "Hint: Use the following numpy functions - np.random.random, np.any as well as Boolean indexing and the axis argument."
   ]
  },
  {
   "cell_type": "code",
   "execution_count": 36,
   "metadata": {},
   "outputs": [
    {
     "name": "stdout",
     "output_type": "stream",
     "text": [
      "a: \n",
      " [[0.69646919 0.28613933 0.22685145 0.55131477 0.71946897 0.42310646]\n",
      " [0.9807642  0.68482974 0.4809319  0.39211752 0.34317802 0.72904971]\n",
      " [0.43857224 0.0596779  0.39804426 0.73799541 0.18249173 0.17545176]\n",
      " [0.53155137 0.53182759 0.63440096 0.84943179 0.72445532 0.61102351]\n",
      " [0.72244338 0.32295891 0.36178866 0.22826323 0.29371405 0.63097612]\n",
      " [0.09210494 0.43370117 0.43086276 0.4936851  0.42583029 0.31226122]\n",
      " [0.42635131 0.89338916 0.94416002 0.50183668 0.62395295 0.1156184 ]\n",
      " [0.31728548 0.41482621 0.86630916 0.25045537 0.48303426 0.98555979]\n",
      " [0.51948512 0.61289453 0.12062867 0.8263408  0.60306013 0.54506801]\n",
      " [0.34276383 0.30412079 0.41702221 0.68130077 0.87545684 0.51042234]]\n",
      "modified a: \n",
      " [[0.69646919 0.28613933 0.22685145 0.55131477 0.71946897 0.42310646]\n",
      " [0.9807642  0.68482974 0.4809319  0.39211752 0.34317802 0.72904971]\n",
      " [0.43857224 0.         0.39804426 0.73799541 0.18249173 0.17545176]\n",
      " [0.53155137 0.53182759 0.63440096 0.84943179 0.72445532 0.61102351]\n",
      " [0.72244338 0.32295891 0.36178866 0.22826323 0.29371405 0.63097612]\n",
      " [0.         0.43370117 0.43086276 0.4936851  0.42583029 0.31226122]\n",
      " [0.42635131 0.89338916 0.94416002 0.50183668 0.62395295 0.1156184 ]\n",
      " [0.31728548 0.41482621 0.86630916 0.25045537 0.48303426 0.98555979]\n",
      " [0.51948512 0.61289453 0.12062867 0.8263408  0.60306013 0.54506801]\n",
      " [0.34276383 0.30412079 0.41702221 0.68130077 0.87545684 0.51042234]] \n",
      "\n"
     ]
    }
   ],
   "source": [
    "import numpy.random as npr\n",
    "npr.seed(123) \n",
    "a=np.array(np.random.random(60).reshape(10,6))\n",
    "print ('a:','\\n',a)\n",
    "a[a <0.1]=0\n",
    "print (\"modified a:\",'\\n', a,'\\n')"
   ]
  },
  {
   "cell_type": "markdown",
   "metadata": {},
   "source": [
    "4\\. Use np.linspace to create an array of 100 numbers between 0 and 2π (includsive).\n",
    "\n",
    "  * Extract every 10th element using slice notation\n",
    "  * Reverse the array using slice notation\n",
    "  * Extract elements where the absolute difference between the sine and cosine functions evaluated at that element is less than 0.1\n",
    "  * Make a plot showing the sin and cos functions and indicate where they are close"
   ]
  },
  {
   "cell_type": "code",
   "execution_count": 75,
   "metadata": {},
   "outputs": [
    {
     "name": "stdout",
     "output_type": "stream",
     "text": [
      "xs \n",
      " [0.         0.06346652 0.12693304 0.19039955 0.25386607 0.31733259\n",
      " 0.38079911 0.44426563 0.50773215 0.57119866 0.63466518 0.6981317\n",
      " 0.76159822 0.82506474 0.88853126 0.95199777 1.01546429 1.07893081\n",
      " 1.14239733 1.20586385 1.26933037 1.33279688 1.3962634  1.45972992\n",
      " 1.52319644 1.58666296 1.65012947 1.71359599 1.77706251 1.84052903\n",
      " 1.90399555 1.96746207 2.03092858 2.0943951  2.15786162 2.22132814\n",
      " 2.28479466 2.34826118 2.41172769 2.47519421 2.53866073 2.60212725\n",
      " 2.66559377 2.72906028 2.7925268  2.85599332 2.91945984 2.98292636\n",
      " 3.04639288 3.10985939 3.17332591 3.23679243 3.30025895 3.36372547\n",
      " 3.42719199 3.4906585  3.55412502 3.61759154 3.68105806 3.74452458\n",
      " 3.8079911  3.87145761 3.93492413 3.99839065 4.06185717 4.12532369\n",
      " 4.1887902  4.25225672 4.31572324 4.37918976 4.44265628 4.5061228\n",
      " 4.56958931 4.63305583 4.69652235 4.75998887 4.82345539 4.88692191\n",
      " 4.95038842 5.01385494 5.07732146 5.14078798 5.2042545  5.26772102\n",
      " 5.33118753 5.39465405 5.45812057 5.52158709 5.58505361 5.64852012\n",
      " 5.71198664 5.77545316 5.83891968 5.9023862  5.96585272 6.02931923\n",
      " 6.09278575 6.15625227 6.21971879 6.28318531]\n",
      "xs every 10th element: \n",
      " [0.57119866 1.20586385 1.84052903 2.47519421 3.10985939 3.74452458\n",
      " 4.37918976 5.01385494 5.64852012 6.28318531]\n",
      "Reverse: \n",
      " [6.28318531 6.21971879 6.15625227 6.09278575 6.02931923 5.96585272\n",
      " 5.9023862  5.83891968 5.77545316 5.71198664 5.64852012 5.58505361\n",
      " 5.52158709 5.45812057 5.39465405 5.33118753 5.26772102 5.2042545\n",
      " 5.14078798 5.07732146 5.01385494 4.95038842 4.88692191 4.82345539\n",
      " 4.75998887 4.69652235 4.63305583 4.56958931 4.5061228  4.44265628\n",
      " 4.37918976 4.31572324 4.25225672 4.1887902  4.12532369 4.06185717\n",
      " 3.99839065 3.93492413 3.87145761 3.8079911  3.74452458 3.68105806\n",
      " 3.61759154 3.55412502 3.4906585  3.42719199 3.36372547 3.30025895\n",
      " 3.23679243 3.17332591 3.10985939 3.04639288 2.98292636 2.91945984\n",
      " 2.85599332 2.7925268  2.72906028 2.66559377 2.60212725 2.53866073\n",
      " 2.47519421 2.41172769 2.34826118 2.28479466 2.22132814 2.15786162\n",
      " 2.0943951  2.03092858 1.96746207 1.90399555 1.84052903 1.77706251\n",
      " 1.71359599 1.65012947 1.58666296 1.52319644 1.45972992 1.3962634\n",
      " 1.33279688 1.26933037 1.20586385 1.14239733 1.07893081 1.01546429\n",
      " 0.95199777 0.88853126 0.82506474 0.76159822 0.6981317  0.63466518\n",
      " 0.57119866 0.50773215 0.44426563 0.38079911 0.31733259 0.25386607\n",
      " 0.19039955 0.12693304 0.06346652 0.        ]\n",
      "mask: \n",
      " [False False False False False False False False False False False False\n",
      "  True  True False False False False False False False False False False\n",
      " False False False False False False False False False False False False\n",
      " False False False False False False False False False False False False\n",
      " False False False False False False False False False False False False\n",
      " False  True  True False False False False False False False False False\n",
      " False False False False False False False False False False False False\n",
      " False False False False False False False False False False False False\n",
      " False False False False] \n",
      " Filtered xs: \n",
      " [0.76159822 0.82506474 3.87145761 3.93492413]\n"
     ]
    },
    {
     "data": {
      "image/png": "[encoded data removed]",
      "text/plain": [
       "<Figure size 432x288 with 1 Axes>"
      ]
     },
     "metadata": {
      "needs_background": "light"
     },
     "output_type": "display_data"
    }
   ],
   "source": [
    "import matplotlib.pyplot as plt\n",
    "import matplotlib.collections as collections\n",
    "%matplotlib inline \n",
    "# tell jupyter to plot inline\n",
    "\n",
    "xs = np.linspace(0, 2*np.pi, 100)\n",
    "print('xs','\\n',xs)\n",
    "\n",
    "\n",
    "\n",
    "#Extract every 10th element using slice notation\n",
    "print('xs every 10th element:','\\n',xs[9::10])\n",
    "\n",
    "\n",
    "\n",
    "#Reverse the array using slice notation\n",
    "print ('Reverse:','\\n',xs[::-1])\n",
    "\n",
    "\n",
    "\n",
    "#Extract elements where the absolute difference between the sine and cosine functions evaluated at that element is less than 0.1\n",
    "masking=(np.absolute(np.sin(xs)-np.cos(xs))<0.1)\n",
    "filtered_xs=xs[masking]\n",
    "print ('mask:','\\n',masking,'\\n','Filtered xs:','\\n',filtered_xs)\n",
    "\n",
    "\n",
    "\n",
    "#Make a plot showing the sin and cos functions and indicate where they are close\n",
    "y1s = np.sin(xs)\n",
    "y2s = np.cos(xs)\n",
    "\n",
    "fig, plt = plt.subplots()\n",
    "plt.plot(xs, y1s,'r');\n",
    "plt.plot(xs, y2s, 'g');\n",
    "collection = collections.BrokenBarHCollection.span_where(\n",
    "    xs, ymin=-1, ymax=1, where=masking==True, facecolor='green', alpha=0.5)\n",
    "plt.add_collection(collection);"
   ]
  },
  {
   "cell_type": "markdown",
   "metadata": {},
   "source": [
    "5\\. Create a matrix that shows the 10 by 10 multiplication table.\n",
    "\n",
    " * Find the trace of the matrix\n",
    " * Extract the anti-diagonal (this should be ```array([10, 18, 24, 28, 30, 30, 28, 24, 18, 10])```)\n",
    " * Extract the diagnoal offset by 1 upwards (this should be ```array([ 2,  6, 12, 20, 30, 42, 56, 72, 90])```)"
   ]
  },
  {
   "cell_type": "code",
   "execution_count": 31,
   "metadata": {},
   "outputs": [
    {
     "name": "stdout",
     "output_type": "stream",
     "text": [
      "[[  1   2   3   4   5   6   7   8   9  10]\n",
      " [  2   4   6   8  10  12  14  16  18  20]\n",
      " [  3   6   9  12  15  18  21  24  27  30]\n",
      " [  4   8  12  16  20  24  28  32  36  40]\n",
      " [  5  10  15  20  25  30  35  40  45  50]\n",
      " [  6  12  18  24  30  36  42  48  54  60]\n",
      " [  7  14  21  28  35  42  49  56  63  70]\n",
      " [  8  16  24  32  40  48  56  64  72  80]\n",
      " [  9  18  27  36  45  54  63  72  81  90]\n",
      " [ 10  20  30  40  50  60  70  80  90 100]]\n",
      "antidiagonal: [10 18 24 28 30 30 28 24 18 10]\n",
      "diagonal offset by 1 upwards: [ 2  6 12 20 30 42 56 72 90]\n"
     ]
    }
   ],
   "source": [
    "ten=np.outer(range(1,11),range(1,11))\n",
    "print(ten)\n",
    "t=np.arange(0,10)\n",
    "y=np.delete(t, [9])\n",
    "print('antidiagonal:',ten[(t),(t[::-1])])\n",
    "print('diagonal offset by 1 upwards:',ten[(y),(y+1)])"
   ]
  },
  {
   "cell_type": "markdown",
   "metadata": {},
   "source": [
    "6\\. Use broadcasting to create a grid of distances\n",
    "\n",
    "Route 66 crosses the following cities in the US: Chicago, Springfield, Saint-Louis, Tulsa, Oklahoma City, Amarillo, Santa Fe, Albuquerque, Flagstaff, Los Angeles\n",
    "The corresponding positions in miles are: 0, 198, 303, 736, 871, 1175, 1475, 1544, 1913, 2448\n",
    "\n",
    "  * Construct a 2D grid of distances among each city along Route 66\n",
    "  * Convert that in km (those savages...)"
   ]
  },
  {
   "cell_type": "code",
   "execution_count": 50,
   "metadata": {},
   "outputs": [
    {
     "name": "stdout",
     "output_type": "stream",
     "text": [
      "distances in miles: \n",
      " [[   0  198  303  736  871 1175 1475 1544 1913 2448]\n",
      " [ 198    0  105  538  673  977 1277 1346 1715 2250]\n",
      " [ 303  105    0  433  568  872 1172 1241 1610 2145]\n",
      " [ 736  538  433    0  135  439  739  808 1177 1712]\n",
      " [ 871  673  568  135    0  304  604  673 1042 1577]\n",
      " [1175  977  872  439  304    0  300  369  738 1273]\n",
      " [1475 1277 1172  739  604  300    0   69  438  973]\n",
      " [1544 1346 1241  808  673  369   69    0  369  904]\n",
      " [1913 1715 1610 1177 1042  738  438  369    0  535]\n",
      " [2448 2250 2145 1712 1577 1273  973  904  535    0]] \n",
      " distance in kilometres: \n",
      " [[   0.       318.64932  487.63002 1184.47424 1401.73514 1890.9745\n",
      "  2373.7765  2484.82096 3078.66742 3939.66432]\n",
      " [ 318.64932    0.       168.9807   865.82492 1083.08582 1572.32518\n",
      "  2055.12718 2166.17164 2760.0181  3621.015  ]\n",
      " [ 487.63002  168.9807     0.       696.84422  914.10512 1403.34448\n",
      "  1886.14648 1997.19094 2591.0374  3452.0343 ]\n",
      " [1184.47424  865.82492  696.84422    0.       217.2609   706.50026\n",
      "  1189.30226 1300.34672 1894.19318 2755.19008]\n",
      " [1401.73514 1083.08582  914.10512  217.2609     0.       489.23936\n",
      "   972.04136 1083.08582 1676.93228 2537.92918]\n",
      " [1890.9745  1572.32518 1403.34448  706.50026  489.23936    0.\n",
      "   482.802    593.84646 1187.69292 2048.68982]\n",
      " [2373.7765  2055.12718 1886.14648 1189.30226  972.04136  482.802\n",
      "     0.       111.04446  704.89092 1565.88782]\n",
      " [2484.82096 2166.17164 1997.19094 1300.34672 1083.08582  593.84646\n",
      "   111.04446    0.       593.84646 1454.84336]\n",
      " [3078.66742 2760.0181  2591.0374  1894.19318 1676.93228 1187.69292\n",
      "   704.89092  593.84646    0.       860.9969 ]\n",
      " [3939.66432 3621.015   3452.0343  2755.19008 2537.92918 2048.68982\n",
      "  1565.88782 1454.84336  860.9969     0.     ]] \n",
      "\n"
     ]
    }
   ],
   "source": [
    "cities_bra=np.tile(np.array([0, 198, 303, 736, 871, 1175, 1475, 1544, 1913, 2448])[:,np.newaxis],(1))\n",
    "cities_ket=np.array([0, 198, 303, 736, 871, 1175, 1475, 1544, 1913, 2448])\n",
    "miles=np.absolute(cities_bra-cities_ket)\n",
    "kilometres=miles*1.60934\n",
    "print (\"distances in miles:\",'\\n',miles,'\\n','distance in kilometres:','\\n',kilometres,'\\n')"
   ]
  },
  {
   "cell_type": "markdown",
   "metadata": {},
   "source": [
    "7\\. Prime numbers sieve: compute the prime numbers in the 0-N (N=99 to start with) range with a sieve (mask).\n",
    "  * Constract a shape (100,) boolean array, the mask\n",
    "  * Identify the multiples of each number starting from 2 and set accordingly the corresponding mask element\n",
    "  * Apply the mask to obtain an array of ordered prime numbers\n",
    "  * Check the performances (timeit); how does it scale with N?\n",
    "  * Implement the optimization suggested in the [sieve of Eratosthenes](https://en.wikipedia.org/wiki/Sieve_of_Eratosthenes)"
   ]
  },
  {
   "cell_type": "code",
   "execution_count": 15,
   "metadata": {},
   "outputs": [
    {
     "name": "stdout",
     "output_type": "stream",
     "text": [
      "44 µs ± 5.73 µs per loop (mean ± std. dev. of 7 runs, 10000 loops each)\n",
      "383 µs ± 12.5 µs per loop (mean ± std. dev. of 7 runs, 1000 loops each)\n",
      "3.7 ms ± 100 µs per loop (mean ± std. dev. of 7 runs, 100 loops each)\n",
      "37.4 ms ± 3.08 ms per loop (mean ± std. dev. of 7 runs, 10 loops each)\n"
     ]
    },
    {
     "data": {
      "image/png": "[encoded data removed]",
      "text/plain": [
       "<Figure size 432x288 with 1 Axes>"
      ]
     },
     "metadata": {
      "needs_background": "light"
     },
     "output_type": "display_data"
    },
    {
     "name": "stdout",
     "output_type": "stream",
     "text": [
      "It escales as an exponential function\n"
     ]
    }
   ],
   "source": [
    "def primi(N):\n",
    "    numbers=np.arange(0,N)\n",
    "    m=np.ones((N), dtype=bool)\n",
    "    for i in numbers:\n",
    "        if i==2 or i==3 or i==5 or i==7:\n",
    "            m[i]=True\n",
    "        elif i%2==0 or i%3==0 or i%5==0 or i%7==0:\n",
    "            m[i]=False\n",
    "    primes = numbers[m]\n",
    "    return primes\n",
    "%timeit primi(10)\n",
    "%timeit primi(100)\n",
    "%timeit primi(1000)\n",
    "%timeit primi(10000)\n",
    "\n",
    "import matplotlib.pyplot as plt\n",
    "\n",
    "plt.plot([1, 2, 3, 4], [35, 373, 3760, 36900], 'ro')\n",
    "plt.show()\n",
    "print('It escales as an exponential function')"
   ]
  },
  {
   "cell_type": "code",
   "execution_count": 14,
   "metadata": {},
   "outputs": [
    {
     "data": {
      "text/plain": [
       "[2,\n",
       " 3,\n",
       " 5,\n",
       " 7,\n",
       " 11,\n",
       " 13,\n",
       " 17,\n",
       " 19,\n",
       " 23,\n",
       " 29,\n",
       " 31,\n",
       " 37,\n",
       " 41,\n",
       " 43,\n",
       " 47,\n",
       " 53,\n",
       " 59,\n",
       " 61,\n",
       " 67,\n",
       " 71,\n",
       " 73,\n",
       " 79,\n",
       " 83,\n",
       " 89,\n",
       " 97]"
      ]
     },
     "execution_count": 14,
     "metadata": {},
     "output_type": "execute_result"
    }
   ],
   "source": [
    "def CrivelloEratostene(n):\n",
    "    primi = [2]\n",
    "    for num in range(3,n+1):\n",
    "        rest = False\n",
    "        rad = pow(num,1/2)\n",
    "        for k in primi:\n",
    "            if k > rad:\n",
    "                break\n",
    "            if num%k == 0:\n",
    "                rest = True\n",
    "                break\n",
    "        if not rest:\n",
    "            primi.append(num)\n",
    "    return primi\n",
    "CrivelloEratostene(100)"
   ]
  },
  {
   "cell_type": "markdown",
   "metadata": {},
   "source": [
    "8\\. Diffusion using random walk\n",
    "\n",
    "Consider a simple random walk process: at each step in time, a walker jumps right or left (+1 or -1) with equal probability. The goal is to find the typical distance from the origin of a random walker after a given amount of time. \n",
    "To do that, let's simulate many walkers and create a 2D array with each walker as a raw and the actual time evolution as columns\n",
    "\n",
    "  * Take 1000 walkers and let them walk for 200 steps\n",
    "  * Use randint to create a 2D array of size walkers x steps with values -1 or 1\n",
    "  * Build the actual walking distances for each walker (i.e. another 2D array \"summing on each raw\")\n",
    "  * Take the square of that 2D array (elementwise)\n",
    "  * Compute the mean of the squared distances at each step (i.e. the mean along the columns)\n",
    "  * Plot the average distances (sqrt(distance\\*\\*2)) as a function of time (step)\n",
    "  \n",
    "Did you get what you expected?"
   ]
  },
  {
   "cell_type": "code",
   "execution_count": 38,
   "metadata": {},
   "outputs": [
    {
     "name": "stdout",
     "output_type": "stream",
     "text": [
      "[0.         0.12835498 0.18493242 0.22427661 0.25685599 0.28381332\n",
      " 0.30797727 0.32916561 0.35291642 0.37686204 0.39550601 0.42213742\n",
      " 0.43866274 0.4537345  0.46752005 0.4881342  0.50197111 0.51901349\n",
      " 0.53016507 0.54394393 0.56727418 0.57375953 0.58051701 0.59413803\n",
      " 0.61124872 0.62233432 0.6383181  0.65080719 0.66071931 0.66343802\n",
      " 0.67418469 0.68702256 0.70180125 0.71543693 0.72691127 0.73421727\n",
      " 0.74404301 0.74891588 0.75883134 0.77314294 0.77792995 0.78860637\n",
      " 0.7948113  0.807589   0.81905433 0.83186537 0.84356387 0.85207101\n",
      " 0.85853072 0.86792857 0.8760137  0.88446311 0.89270656 0.89849875\n",
      " 0.9103708  0.92311971 0.93665629 0.9459519  0.95477746 0.96009114\n",
      " 0.9711591  0.98005102 0.99051754 0.99428366 1.00390488 1.01559096\n",
      " 1.0264989  1.03535018 1.04521529 1.05126115 1.05661015 1.06445996\n",
      " 1.07270686 1.07994213 1.08285502 1.08350127 1.0894494  1.09177608\n",
      " 1.09482875 1.09430343 1.09647161 1.10918889 1.11502242 1.12007812\n",
      " 1.12771894 1.12971235 1.14275982 1.15183549 1.14825955 1.14732297\n",
      " 1.15787521 1.16073253 1.17226277 1.1783463  1.18743421 1.19608737\n",
      " 1.19775832 1.19628592 1.20714539 1.21204373 1.21870833 1.2288104\n",
      " 1.23255832 1.23485829 1.24578289 1.2438549  1.25623445 1.26420924\n",
      " 1.26984251 1.27715504 1.28657491 1.29313572 1.29410201 1.29687123\n",
      " 1.3076888  1.31961169 1.31746916 1.32253544 1.32854243 1.33196284\n",
      " 1.32881526 1.33312603 1.34013992 1.34786869 1.34785941 1.35456635\n",
      " 1.36325896 1.36182782 1.3672966  1.37619039 1.3863351  1.3949552\n",
      " 1.39682676 1.39759615 1.40476866 1.40629833 1.42036087 1.42262961\n",
      " 1.42275261 1.42586816 1.43479093 1.44551029 1.44989655 1.45194697\n",
      " 1.45607349 1.45941769 1.46490614 1.46358293 1.46901327 1.47508474\n",
      " 1.48148574 1.47972971 1.48896776 1.49561024 1.49717233 1.50826059\n",
      " 1.51610521 1.51033109 1.51579187 1.51725904 1.52334336 1.52663028\n",
      " 1.53518728 1.54374545 1.54961285 1.55536973 1.56111338 1.55580365\n",
      " 1.55918248 1.5659023  1.56711518 1.57096308 1.57901077 1.58303506\n",
      " 1.58157358 1.58510252 1.58871017 1.59441996 1.58432162 1.59239599\n",
      " 1.59881206 1.60287242 1.60218601 1.60755249 1.60980589 1.61017856\n",
      " 1.61373015 1.61469037 1.62520768 1.61895028 1.62306808 1.62830433\n",
      " 1.63502294 1.64719458 1.65189285 1.65009848 1.65781483 1.66713827\n",
      " 1.66178368 0.        ]\n"
     ]
    },
    {
     "data": {
      "image/png": "[encoded data removed]",
      "text/plain": [
       "<Figure size 432x288 with 1 Axes>"
      ]
     },
     "metadata": {
      "needs_background": "light"
     },
     "output_type": "display_data"
    }
   ],
   "source": [
    "import numpy as np\n",
    "import numpy.random as npr\n",
    "npr.seed(123)\n",
    "steps=npr.randint(-1,2,size=(1000,200))\n",
    "paths=np.zeros((1000,200))\n",
    "for i in range(1,999):\n",
    "    for j in range(1,199):\n",
    "        paths[i,j]=paths[i-1,j-1]+steps[i,j]\n",
    "paths=paths**2\n",
    "means=paths.sum(axis=0)\n",
    "means=np.power(means,1/2)/200\n",
    "print(means)\n",
    "\n",
    "\n",
    "import matplotlib.pyplot as plt\n",
    "x=np.arange(0,200)\n",
    "plt.plot( x, means , 'ro')\n",
    "plt.show()"
   ]
  },
  {
   "cell_type": "markdown",
   "metadata": {},
   "source": [
    "9\\. Analyze a data file \n",
    "  * Download the population of hares, lynxes and carrots at the beginning of the last century.\n",
    "    ```python\n",
    "    ! wget https://www.dropbox.com/s/3vigxoqayo389uc/populations.txt\n",
    "    ```\n",
    "\n",
    "  * Check the content by looking within the file\n",
    "  * Load the data (use an appropriate numpy method) into a 2D array\n",
    "  * Create arrays out of the columns, the arrays being (in order): *year*, *hares*, *lynxes*, *carrots* \n",
    "  * Plot the 3 populations over the years\n",
    "  * Compute the main statistical properties of the dataset (mean, std, correlations, etc.)\n",
    "  * Which species has the highest population each year?\n",
    "\n",
    "Do you feel there is some evident correlation here? [Studies](https://www.enr.gov.nt.ca/en/services/lynx/lynx-snowshoe-hare-cycle) tend to believe so."
   ]
  },
  {
   "cell_type": "code",
   "execution_count": 57,
   "metadata": {},
   "outputs": [
    {
     "name": "stdout",
     "output_type": "stream",
     "text": [
      "[[ 1900. 30000.  4000. 48300.]\n",
      " [ 1901. 47200.  6100. 48200.]\n",
      " [ 1902. 70200.  9800. 41500.]\n",
      " [ 1903. 77400. 35200. 38200.]\n",
      " [ 1904. 36300. 59400. 40600.]\n",
      " [ 1905. 20600. 41700. 39800.]\n",
      " [ 1906. 18100. 19000. 38600.]\n",
      " [ 1907. 21400. 13000. 42300.]\n",
      " [ 1908. 22000.  8300. 44500.]\n",
      " [ 1909. 25400.  9100. 42100.]\n",
      " [ 1910. 27100.  7400. 46000.]\n",
      " [ 1911. 40300.  8000. 46800.]\n",
      " [ 1912. 57000. 12300. 43800.]\n",
      " [ 1913. 76600. 19500. 40900.]\n",
      " [ 1914. 52300. 45700. 39400.]\n",
      " [ 1915. 19500. 51100. 39000.]\n",
      " [ 1916. 11200. 29700. 36700.]\n",
      " [ 1917.  7600. 15800. 41800.]\n",
      " [ 1918. 14600.  9700. 43300.]\n",
      " [ 1919. 16200. 10100. 41300.]\n",
      " [ 1920. 24700.  8600. 47300.]]\n",
      "Hares data: \n",
      " mean: \n",
      " 34080.95238095238 \n",
      " standard deviation: \n",
      " 20897.906458089667\n",
      "Lynxes data: \n",
      " mean: \n",
      " 20166.666666666668 \n",
      " standard deviation: \n",
      " 16254.591536908763\n",
      "Carrots data: \n",
      " mean: \n",
      " 42400.0 \n",
      " standard deviation: \n",
      " 3322.5062255844787\n",
      "we can see that when hares reach the maximum numbers, there arent much lynxes. Their number tends to raise while the number of hares decrease a lot, until lyxes reach the maximum that corresponds to the minimum of hares. \n"
     ]
    },
    {
     "data": {
      "image/png": "[encoded data removed]",
      "text/plain": [
       "<Figure size 432x288 with 1 Axes>"
      ]
     },
     "metadata": {
      "needs_background": "light"
     },
     "output_type": "display_data"
    }
   ],
   "source": [
    "data = np.loadtxt('/Users/populations.txt')\n",
    "print(data)\n",
    "year=data[::,0]\n",
    "hares=data[::,1]\n",
    "lynxes=data[::,2]\n",
    "carrots=data[::,3]\n",
    "print('Hares data:','\\n','mean:','\\n',hares.mean(),'\\n','standard deviation:','\\n',hares.std())\n",
    "print('Lynxes data:','\\n','mean:','\\n',lynxes.mean(),'\\n','standard deviation:','\\n',lynxes.std())\n",
    "print('Carrots data:','\\n','mean:','\\n',carrots.mean(),'\\n','standard deviation:','\\n',carrots.std())\n",
    "\n",
    "import matplotlib\n",
    "import matplotlib.pyplot as plt\n",
    "%matplotlib inline \n",
    "\n",
    "fig, plt = plt.subplots()\n",
    "plt.plot(year, hares,'r');\n",
    "plt.plot(year, lynxes, 'g');\n",
    "plt.plot(year, carrots, 'b');\n",
    "matplotlib.style.use('ggplot')\n",
    "print('we can see that when hares reach the maximum numbers, there arent much lynxes. Their number tends to raise while the number of hares decrease a lot, until lyxes reach the maximum that corresponds to the minimum of hares. ')"
   ]
  },
  {
   "cell_type": "code",
   "execution_count": 56,
   "metadata": {},
   "outputs": [
    {
     "name": "stdout",
     "output_type": "stream",
     "text": [
      "As we can see, apparently there isnt a correlation between hares and lynxes (scattered red dots at the bottom with some peaks sometimes), carrots are correlated to lynxes in periods where lynxes are missing and there are hares (blue and violet points).\n"
     ]
    },
    {
     "data": {
      "image/png": "[encoded data removed]",
      "text/plain": [
       "<Figure size 432x288 with 1 Axes>"
      ]
     },
     "metadata": {
      "needs_background": "light"
     },
     "output_type": "display_data"
    }
   ],
   "source": [
    "import matplotlib\n",
    "import matplotlib.pyplot as plt\n",
    "%matplotlib inline \n",
    "\n",
    "plt.scatter(hares, lynxes)\n",
    "plt.scatter(hares, carrots)\n",
    "plt.scatter(lynxes, carrots)\n",
    "\n",
    "print('As we can see, apparently there isnt a correlation between hares and lynxes (scattered red dots at the bottom with some peaks sometimes), carrots are correlated to lynxes in periods where lynxes are missing and there are hares (blue and violet points).')"
   ]
  }
 ],
 "metadata": {
  "kernelspec": {
   "display_name": "Python 3",
   "language": "python",
   "name": "python3"
  },
  "language_info": {
   "codemirror_mode": {
    "name": "ipython",
    "version": 3
   },
   "file_extension": ".py",
   "mimetype": "text/x-python",
   "name": "python",
   "nbconvert_exporter": "python",
   "pygments_lexer": "ipython3",
   "version": "3.8.3"
  }
 },
 "nbformat": 4,
 "nbformat_minor": 2
}
