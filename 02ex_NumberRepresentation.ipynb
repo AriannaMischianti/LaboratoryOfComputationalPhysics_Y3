{
 "cells": [
  {
   "cell_type": "markdown",
   "metadata": {},
   "source": [
    "1\\. Write a function that converts number representation (bin<->dec<->hex)"
   ]
  },
  {
   "cell_type": "code",
   "execution_count": 14,
   "metadata": {},
   "outputs": [
    {
     "name": "stdout",
     "output_type": "stream",
     "text": [
      "Conversion from decimal to binary and viceversa\n",
      "Binary representation of 18 : 0b10010\n",
      "Decimal representation of 0b10010 : 18\n",
      "Conversion from decimal to Hexadecimal and viceversa\n",
      "Hexadecimal representation of 18 : 0x12\n",
      "Decimal representation of 0x12 : 18\n"
     ]
    }
   ],
   "source": [
    "def Converter(n):\n",
    "    print('Conversion from decimal to binary and viceversa')\n",
    "    print('Binary representation of',n,':', bin(n))\n",
    "    print('Decimal representation of',bin(n),':', int(bin(n),2))\n",
    "    print('Conversion from decimal to Hexadecimal and viceversa')\n",
    "    print('Hexadecimal representation of',n,':', hex(n))\n",
    "    print('Decimal representation of',hex(n),':', int(hex(n),16))\n",
    "Converter(18)"
   ]
  },
  {
   "cell_type": "markdown",
   "metadata": {},
   "source": [
    "2\\. Write a function that converts a 32 bit word into a single precision floating point (i.e. interprets the various bits as sign, mantissa and exponent)"
   ]
  },
  {
   "cell_type": "code",
   "execution_count": 12,
   "metadata": {},
   "outputs": [
    {
     "name": "stdout",
     "output_type": "stream",
     "text": [
      "the sign is plus\n",
      "the exponent is  00000000 which means 0\n",
      "the mantissa is  0101100011101001100001 which means 2983397376\n",
      "the binary inserted is  1.753483380873018e-29 in decimal form.\n"
     ]
    }
   ],
   "source": [
    "def BinaryToFloat(value):\n",
    "    if len(value)!=32:\n",
    "        print('error')\n",
    "    else:\n",
    "        s=int(value[0])\n",
    "        if s==0:\n",
    "            print ('the sign is plus')\n",
    "        else:\n",
    "            print('the sign is minus')\n",
    "        exp_bit=value[1:9]\n",
    "        exponent=0\n",
    "        for i in range(len(exp_bit)):\n",
    "            exponent=exponent+int(exp_bit[i])*pow(2,7-i)\n",
    "        print('the exponent is ', exp_bit, 'which means', exponent)\n",
    "        mantissa_bit=value[10:32]\n",
    "        mantissa=0\n",
    "        for i in range(len(mantissa_bit)):\n",
    "            mantissa=mantissa+int(mantissa_bit[i])*pow(2,32-i)\n",
    "        print('the mantissa is ', mantissa_bit, 'which means', mantissa)\n",
    "        floating=pow(-1,s)*mantissa*pow(2,exponent-127)\n",
    "        print('the binary inserted is ', floating, 'in decimal form.')\n",
    "BinaryToFloat('00000000000101100011101001100001')"
   ]
  },
  {
   "cell_type": "markdown",
   "metadata": {},
   "source": [
    "3\\. Write a program to determine the underflow and overflow limits (within a factor of 2) for python on your computer. \n",
    "\n",
    "**Tips**: define two variables inizialized to 1 and halve/double them enough time to exceed the under/over-flow limits  "
   ]
  },
  {
   "cell_type": "code",
   "execution_count": 1,
   "metadata": {},
   "outputs": [
    {
     "name": "stdout",
     "output_type": "stream",
     "text": [
      "sys.float_info(max=1.7976931348623157e+308, max_exp=1024, max_10_exp=308, min=2.2250738585072014e-308, min_exp=-1021, min_10_exp=-307, dig=15, mant_dig=53, epsilon=2.220446049250313e-16, radix=2, rounds=1)\n"
     ]
    }
   ],
   "source": [
    "import sys\n",
    "print (sys.float_info)"
   ]
  },
  {
   "cell_type": "code",
   "execution_count": 18,
   "metadata": {},
   "outputs": [
    {
     "name": "stdout",
     "output_type": "stream",
     "text": [
      "8.98846567431158e+307 5e-324\n"
     ]
    }
   ],
   "source": [
    "import math\n",
    "ma=1.\n",
    "mi=1.\n",
    "while (ma!=math.inf):\n",
    "    var_max=ma\n",
    "    ma=ma*2\n",
    "while (mi!=0):\n",
    "    var_min=mi\n",
    "    mi=mi/2\n",
    "    \n",
    "    \n",
    "print(var_max,var_min)"
   ]
  },
  {
   "cell_type": "markdown",
   "metadata": {},
   "source": [
    "4\\. Write a program to determine the machine precision\n",
    "\n",
    "**Tips**: define a new variable by adding a smaller and smaller value (proceeding similarly to prob. 2) to an original variable and check the point where the two are the same "
   ]
  },
  {
   "cell_type": "code",
   "execution_count": 25,
   "metadata": {},
   "outputs": [
    {
     "name": "stdout",
     "output_type": "stream",
     "text": [
      "2.220446049250313e-16\n"
     ]
    }
   ],
   "source": [
    "original=5\n",
    "epsilon=1\n",
    "ori=0\n",
    "while (original!=ori):\n",
    "    ori=original\n",
    "    original=original+epsilon/2\n",
    "    epsilon=epsilon/2\n",
    "print(epsilon)\n"
   ]
  },
  {
   "cell_type": "markdown",
   "metadata": {},
   "source": [
    "5\\. Write a function that takes in input three parameters $a$, $b$ and $c$ and prints out the two solutions to the quadratic equation $ax^2+bx+c=0$ using the standard formula:\n",
    "$$\n",
    "x=\\frac{-b\\pm\\sqrt{b^2-4ac}}{2a}\n",
    "$$\n",
    "\n",
    "(a) use the program to compute the solution for $a=0.001$, $b=1000$ and $c=0.001$\n",
    "\n",
    "(b) re-express the standard solution formula by multiplying top and bottom by $-b\\mp\\sqrt{b^2-4ac}$ and again find the solution for $a=0.001$, $b=1000$ and $c=0.001$. How does it compare with what previously obtained? Why?\n",
    "\n",
    "(c) write a function that compute the roots of a quadratic equation accurately in all cases"
   ]
  },
  {
   "cell_type": "code",
   "execution_count": 7,
   "metadata": {},
   "outputs": [
    {
     "name": "stdout",
     "output_type": "stream",
     "text": [
      "-9.999894245993346e-07 -999999.999999\n",
      "-1.000000000001e-06 -1000010.5755125057\n",
      "-9.999894245993346e-07 -1000010.5755125057\n"
     ]
    }
   ],
   "source": [
    "#use the program to compute the solution for 𝑎=0.001, 𝑏=1000 and  𝑐=0.001\n",
    "a=0.001\n",
    "b=1000\n",
    "c=0.001\n",
    "def parabola (a,b,c):\n",
    "    x1=(-b+pow(pow(b,2)-4*a*c,1/2))/(2*a)\n",
    "    x2=(-b-pow(pow(b,2)-4*a*c,1/2))/(2*a)\n",
    "    return (x1,x2)\n",
    "x1,x2=parabola(a,b,c)\n",
    "print(x1,x2)\n",
    "#b)re-express the standard solution formula by multiplying top and bottom by  −𝑏∓𝑏2−4𝑎𝑐⎯⎯⎯⎯⎯⎯⎯⎯⎯⎯⎯⎯⎯√  and again find the solution for  𝑎=0.001 ,  𝑏=1000  and  𝑐=0.001 . How does it compare with what previously obtained? Why?\n",
    "def ridefine(a,b,c):\n",
    "    r1=(2*c)/(-b-pow(pow(b,2)-4*a*c,1/2))\n",
    "    r2=(2*c)/(-b+pow(pow(b,2)-4*a*c,1/2))\n",
    "    return r1,r2\n",
    "r1,r2=ridefine(a,b,c)\n",
    "print(r1,r2)\n",
    "#c)write a function that compute the roots of a quadratic equation accurately in all cases    \n",
    "def accurate(a,b,c):\n",
    "    r1=(-b+pow(pow(b,2)-4*a*c,1/2))/(2*a)\n",
    "    r2=(2*c)/(-b+pow(pow(b,2)-4*a*c,1/2))\n",
    "    return r1,r2\n",
    "R1,R2=accurate(a,b,c)\n",
    "print(R1,R2)"
   ]
  },
  {
   "cell_type": "markdown",
   "metadata": {},
   "source": [
    "6\\. Write a program that implements the function $f(x)=x(x−1)$\n",
    "\n",
    "(a) Calculate the derivative of the function at the point $x = 1$ using the derivative definition:\n",
    "\n",
    "$$\n",
    "\\frac{{\\rm d}f}{{\\rm d}x} = \\lim_{\\delta\\to0} \\frac{f(x+\\delta)-f(x)}{\\delta}\n",
    "$$\n",
    "\n",
    "with $\\delta = 10^{−2}$. Calculate the true value of the same derivative analytically and compare with the answer your program gives. The two will not agree perfectly. Why not?\n",
    "\n",
    "(b) Repeat the calculation for $\\delta = 10^{−4}, 10^{−6}, 10^{−8}, 10^{−10}, 10^{−12}$ and $10^{−14}$. How does the accuracy scales with $\\delta$?"
   ]
  },
  {
   "cell_type": "code",
   "execution_count": 21,
   "metadata": {},
   "outputs": [
    {
     "name": "stdout",
     "output_type": "stream",
     "text": [
      "1.010000000000001\n",
      "1.0000999999998899\n",
      "1.0000009999177333\n",
      "1.0000000039225287\n",
      "1.000000082840371\n",
      "1.0000889005833413\n",
      "0.9992007221626509\n"
     ]
    }
   ],
   "source": [
    "def function(x):\n",
    "    f=x*(x-1)\n",
    "    return f\n",
    "def derivative(delta,x):\n",
    "    df=(function(x+delta)-function(x))/delta\n",
    "    return df\n",
    "df=derivative(pow(10,-2),1)\n",
    "print(df)\n",
    "for i in range(2,8):print(derivative(pow(10,-2*i),1)) "
   ]
  },
  {
   "cell_type": "markdown",
   "metadata": {},
   "source": [
    "7\\. Consider the integral of the semicircle of radius 1:\n",
    "$$\n",
    "I=\\int_{-1}^{1} \\sqrt(1-x^2) {\\rm d}x\n",
    "$$\n",
    "which it's known to be $I=\\frac{\\pi}{2}=1.57079632679...$.\n",
    "Alternatively we can use the Riemann definition of the integral:\n",
    "$$\n",
    "I=\\lim_{N\\to\\infty} \\sum_{k=1}^{N} h y_k \n",
    "$$\n",
    "\n",
    "with $h=2/N$ the width of each of the $N$ slices the domain is divided into and where\n",
    "$y_k$ is the value of the function at the $k-$th slice.\n",
    "\n",
    "(a) Write a programe to compute the integral with $N=100$. How does the result compares to the true value?\n",
    "\n",
    "(b) How much can $N$ be increased if the computation needs to be run in less than a second? What is the gain in running it for 1 minute? \n"
   ]
  },
  {
   "cell_type": "code",
   "execution_count": 6,
   "metadata": {},
   "outputs": [
    {
     "name": "stdout",
     "output_type": "stream",
     "text": [
      "116 µs ± 16.3 µs per loop (mean ± std. dev. of 7 runs, 10000 loops each)\n",
      "true value: 1.57079632679 \n",
      " function value: 1.5802085158895236 \n",
      " difference: 0.009412189099523571\n"
     ]
    }
   ],
   "source": [
    "def integral(N):\n",
    "    I=0\n",
    "    eps=2/N\n",
    "    for k in range(N):\n",
    "        y=pow(1-(k/N)**2,1/2)\n",
    "        I = I + eps*y\n",
    "    return I\n",
    "%timeit x=integral(100)\n",
    "pi=1.57079632679\n",
    "diff=x-pi\n",
    "print('true value:',pi,'\\n','function value:',x,'\\n','difference:',diff)"
   ]
  },
  {
   "cell_type": "code",
   "execution_count": 4,
   "metadata": {},
   "outputs": [
    {
     "name": "stdout",
     "output_type": "stream",
     "text": [
      "the running time is 0.9999899999999999 s for  11111 loops\n",
      "the running time is 59.999939999999995 s for  666666 loops\n",
      "true value: 1.57079632679 \n",
      " function value: 1.5707978257162083 \n",
      " difference: 1.4989262082654164e-06\n"
     ]
    }
   ],
   "source": [
    "#more or less it takes 90 \\mu s per loop:\n",
    "#time per loop\n",
    "tpl=90*pow(10,-6)\n",
    "#I found the number of loops trying by input\n",
    "#n=float(input())\n",
    "#t=tpl*n\n",
    "#print('the running time is',t,'s','for ',n,'loops')\n",
    "#and I've discovered that the limit of less than one second is:\n",
    "print('the running time is',tpl*11111,'s','for ',11111,'loops')\n",
    "#for one minute\n",
    "print('the running time is',tpl*666666,'s','for ',666666,'loops')\n",
    "p=integral(666666)\n",
    "diffe=p-pi\n",
    "print('true value:',pi,'\\n','function value:',p,'\\n','difference:',diffe)"
   ]
  }
 ],
 "metadata": {
  "kernelspec": {
   "display_name": "Python 3",
   "language": "python",
   "name": "python3"
  },
  "language_info": {
   "codemirror_mode": {
    "name": "ipython",
    "version": 3
   },
   "file_extension": ".py",
   "mimetype": "text/x-python",
   "name": "python",
   "nbconvert_exporter": "python",
   "pygments_lexer": "ipython3",
   "version": "3.8.3"
  }
 },
 "nbformat": 4,
 "nbformat_minor": 2
}
