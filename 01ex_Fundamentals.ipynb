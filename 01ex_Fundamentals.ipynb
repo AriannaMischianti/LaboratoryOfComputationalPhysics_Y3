{
 "cells": [
  {
   "cell_type": "markdown",
   "metadata": {},
   "source": [
    "1\\. Write the following as a list comprehension"
   ]
  },
  {
   "cell_type": "code",
   "execution_count": 4,
   "metadata": {},
   "outputs": [
    {
     "name": "stdout",
     "output_type": "stream",
     "text": [
      "[(0, 0), (0, 1), (0, 2), (0, 3), (1, 0), (1, 1), (1, 2), (1, 3), (2, 0), (2, 1), (2, 2), (2, 3)]\n",
      "[(0, 0), (0, 1), (0, 2), (0, 3), (1, 0), (1, 1), (1, 2), (1, 3), (2, 0), (2, 1), (2, 2), (2, 3)]\n",
      "[0, 4, 16]\n",
      "[0, 4, 16]\n"
     ]
    }
   ],
   "source": [
    "# 1\n",
    "ans = []\n",
    "for i in range(3):\n",
    "    for j in range(4):\n",
    "        ans.append((i, j))\n",
    "print (ans)\n",
    "#list combrehension 1\n",
    "print([(i,j) for i in range(3) for j in range(4)])\n",
    "# 2\n",
    "ans = map(lambda x: x*x, filter(lambda x: x%2 == 0, range(5)))\n",
    "print (list(ans))\n",
    "#list combrehension 1\n",
    "print([x*x for x in range(5) if x%2 == 0])"
   ]
  },
  {
   "cell_type": "markdown",
   "metadata": {},
   "source": [
    "2\\. Convert the following function into a pure function with no global variables or side effects"
   ]
  },
  {
   "cell_type": "code",
   "execution_count": 5,
   "metadata": {},
   "outputs": [
    {
     "name": "stdout",
     "output_type": "stream",
     "text": [
      "[1, 2, 3, 0, 1, 2, 3, 4]\n",
      "[1, 2, 3, 0, 1, 2, 3, 4]\n"
     ]
    }
   ],
   "source": [
    "x = 5\n",
    "def f(alist):\n",
    "    for i in range(x):\n",
    "         alist.append(i)\n",
    "    return alist\n",
    "\n",
    "alist = [1,2,3]\n",
    "ans = f(alist)\n",
    "print (ans)\n",
    "print (alist) # alist has been changed!"
   ]
  },
  {
   "cell_type": "code",
   "execution_count": 40,
   "metadata": {},
   "outputs": [
    {
     "name": "stdout",
     "output_type": "stream",
     "text": [
      "[1, 2, 3, 0, 1, 2, 3, 4]\n",
      "[1, 2, 3]\n"
     ]
    }
   ],
   "source": [
    "def f(plist):\n",
    "    a=[]\n",
    "    for i in range(5):\n",
    "        a.append(i)\n",
    "    a=plist+a\n",
    "    return a\n",
    "plist = [1,2,3]\n",
    "print(f(plist))\n",
    "print(plist)   "
   ]
  },
  {
   "cell_type": "markdown",
   "metadata": {},
   "source": [
    "3\\. Write a `decorator` hello that makes every wrapped function print “Hello!”, i.e. something like:\n",
    "\n",
    "```python\n",
    "@hello\n",
    "def square(x):\n",
    "    return x*x\n",
    "```"
   ]
  },
  {
   "cell_type": "code",
   "execution_count": 19,
   "metadata": {},
   "outputs": [
    {
     "name": "stdout",
     "output_type": "stream",
     "text": [
      "Hello!\n",
      "36\n"
     ]
    }
   ],
   "source": [
    "x=6\n",
    "def my_decorator(func):\n",
    "    def wrapper(x):\n",
    "        print(\"Hello!\")\n",
    "        print(func(x))\n",
    "    return wrapper\n",
    "\n",
    "@my_decorator\n",
    "def square(x):\n",
    "    return x*x\n",
    "square(x)"
   ]
  },
  {
   "cell_type": "markdown",
   "metadata": {},
   "source": [
    "4\\. Write the factorial function so that it a) does and b) does not use recursion."
   ]
  },
  {
   "cell_type": "code",
   "execution_count": 20,
   "metadata": {},
   "outputs": [
    {
     "name": "stdout",
     "output_type": "stream",
     "text": [
      "120\n",
      "120\n"
     ]
    }
   ],
   "source": [
    "n=5\n",
    "def nfactorial(n):\n",
    "    if n==1 or n==0:\n",
    "        return 1\n",
    "    else:\n",
    "        return n*nfactorial(n-1)\n",
    "print (nfactorial(n))\n",
    "#without recursion\n",
    "def factorial(n):\n",
    "    a = 1\n",
    "    for i in range(1, n+1):\n",
    "        a = a*i\n",
    "    return a\n",
    "print (factorial(n))"
   ]
  },
  {
   "cell_type": "markdown",
   "metadata": {},
   "source": [
    "5\\. Use HOFs (zip in particular) to compute the weight of a circle, a disk and a sphere, assuming different radii and different densities:\n",
    "\n",
    "```python\n",
    "densities = {\"Al\":[0.5,1,2],\"Fe\":[3,4,5],\"Pb\": [15,20,30]}\n",
    "radii = [1,2,3]\n",
    "```\n",
    "\n",
    "where the entries of the dictionary's values are the linear, superficial and volumetric densities of the materials respectively.\n",
    "\n",
    "In particular define a list of three lambda functions using a comprehension that computes the circumference, the area and the volume for a given radius.\n"
   ]
  },
  {
   "cell_type": "code",
   "execution_count": 32,
   "metadata": {},
   "outputs": [
    {
     "name": "stdout",
     "output_type": "stream",
     "text": [
      "Al 0.5 3.141592653589793\n",
      "Al 0.5 6.283185307179586\n",
      "Al 0.5 9.42477796076938\n",
      "Al 1 3.141592653589793\n",
      "Al 1 12.566370614359172\n",
      "Al 1 28.274333882308138\n",
      "Al 2 8.377580409572781\n",
      "Al 2 67.02064327658225\n",
      "Al 2 226.19467105846508\n",
      "Fe 3 18.84955592153876\n",
      "Fe 3 37.69911184307752\n",
      "Fe 3 56.548667764616276\n",
      "Fe 4 12.566370614359172\n",
      "Fe 4 50.26548245743669\n",
      "Fe 4 113.09733552923255\n",
      "Fe 5 20.94395102393195\n",
      "Fe 5 167.5516081914556\n",
      "Fe 5 565.4866776461627\n",
      "Pb 15 94.24777960769379\n",
      "Pb 15 188.49555921538757\n",
      "Pb 15 282.7433388230814\n",
      "Pb 20 62.83185307179586\n",
      "Pb 20 251.32741228718345\n",
      "Pb 20 565.4866776461628\n",
      "Pb 30 125.66370614359171\n",
      "Pb 30 1005.3096491487337\n",
      "Pb 30 3392.920065876976\n"
     ]
    }
   ],
   "source": [
    "from math import pi\n",
    "densities = {\"Al\":[0.5,1,2],\"Fe\":[3,4,5],\"Pb\": [15,20,30]}\n",
    "radii = [1,2,3]\n",
    "Misura = [lambda rad: [2*pi*r for r in rad], lambda rad: [pi*r*r for r in rad], lambda rad: [4/3*pi*r**3 for r in rad]]\n",
    "for i in range(0,3): Misura[i](radii)\n",
    "for x in densities: \n",
    "    for y,z in zip(Misura,densities[x]):\n",
    "        for j in y(radii):\n",
    "            pesi = z*j\n",
    "            print(x,z,pesi)"
   ]
  },
  {
   "cell_type": "markdown",
   "metadata": {},
   "source": [
    "6\\. Edit the class defintion to add an instance attribute of is_hungry = True to the Dog class. Then add a method called eat() which changes the value of is_hungry to False when called. Figure out the best way to feed each dog and then output “My dogs are hungry.” if all are hungry or “My dogs are not hungry.” if all are not hungry. The final output should look like this:\n",
    "\n",
    "`I have 3 dogs. \n",
    "Tom is 6. \n",
    "Fletcher is 7. \n",
    "Larry is 9. \n",
    "And they're all mammals, of course. \n",
    "My dogs are not hungry.\n",
    "`\n",
    "\n",
    "```python\n",
    "# Parent class\n",
    "class Dog:\n",
    "\n",
    "    # Class attribute\n",
    "    species = 'mammal'\n",
    "\n",
    "    # Initializer / Instance attributes\n",
    "    \n",
    "    def __init__(self, name, age):\n",
    "        self.name = name\n",
    "        self.age = age\n",
    "\n",
    "    # instance method\n",
    "    def description(self):\n",
    "        return \"{} is {} years old\".format(self.name, self.age)\n",
    "\n",
    "    # instance method\n",
    "    def speak(self, sound):\n",
    "        return \"{} says {}\".format(self.name, sound)\n",
    "\n",
    "# Child class (inherits from Dog class)\n",
    "class RussellTerrier(Dog):\n",
    "    def run(self, speed):\n",
    "        return \"{} runs {}\".format(self.name, speed)\n",
    "\n",
    "# Child class (inherits from Dog class)\n",
    "class Bulldog(Dog):\n",
    "    def run(self, speed):\n",
    "        return \"{} runs {}\".format(self.name, speed)\n",
    "```"
   ]
  },
  {
   "cell_type": "code",
   "execution_count": 43,
   "metadata": {},
   "outputs": [
    {
     "name": "stdout",
     "output_type": "stream",
     "text": [
      "I have 3 dogs.\n",
      "Tom is 6 years old.\n",
      "Fletcher is 7 years old.\n",
      "Larry is 9 years old.\n",
      "And they are all mammal, of course.\n",
      "My dogs are not hungry\n"
     ]
    }
   ],
   "source": [
    "class Dog:\n",
    "\n",
    "    # Class attribute\n",
    "    species = 'mammal'\n",
    "\n",
    "    # Initializer / Instance attributes\n",
    "    def __init__(self, name, age):\n",
    "        self.name = name\n",
    "        self.age = age\n",
    "        self.is_hungry = True\n",
    "    \n",
    "    #instanche method\n",
    "    def brothers(self,number):\n",
    "        return \"I have {} dogs.\".format(number)\n",
    "\n",
    "    # instance method\n",
    "    def description(self):\n",
    "        return \"{} is {} years old.\".format(self.name, self.age)\n",
    "\n",
    "    # instance method\n",
    "    def speak(self, sound):\n",
    "        return \"{} says {}\".format(self.name, sound)\n",
    "    \n",
    "    #instance method\n",
    "    def eat(self):\n",
    "        self.is_hungry = False\n",
    "        return self.is_hungry\n",
    "\n",
    "# Child class (inherits from Dog class)\n",
    "class RussellTerrier(Dog):\n",
    "    def run(self, speed):\n",
    "        return \"{} runs {}\".format(self.name, speed)\n",
    "\n",
    "# Child class (inherits from Dog class)\n",
    "class Bulldog(Dog):\n",
    "    def run(self, speed):\n",
    "        return \"{} runs {}\".format(self.name, speed)\n",
    "a=Dog('Tom',6)\n",
    "b=Dog('Fletcher',7)\n",
    "c=Dog('Larry',9)\n",
    "dogs=[a,b,c]\n",
    "print(a.brothers(len(dogs)))\n",
    "for i in dogs:\n",
    "    print(i.description())\n",
    "print(\"And they are all {}, of course.\".format(Dog.species))\n",
    "for i in dogs:\n",
    "    i.eat()\n",
    "check=[]\n",
    "for i in dogs:\n",
    "    if i.is_hungry==True:\n",
    "        check.append(1)\n",
    "    else:\n",
    "        check.append(0)\n",
    "if check == [1,1,1] : print('My dogs are all hungry')\n",
    "if check == [0,0,0] : print('My dogs are not hungry') "
   ]
  }
 ],
 "metadata": {
  "kernelspec": {
   "display_name": "Python 3",
   "language": "python",
   "name": "python3"
  },
  "language_info": {
   "codemirror_mode": {
    "name": "ipython",
    "version": 3
   },
   "file_extension": ".py",
   "mimetype": "text/x-python",
   "name": "python",
   "nbconvert_exporter": "python",
   "pygments_lexer": "ipython3",
<<<<<<< HEAD
   "version": "3.8.3"
=======
   "version": "3.5.4"
>>>>>>> 21ca609028dba591e26192e563faf3132315010c
  }
 },
 "nbformat": 4,
 "nbformat_minor": 2
}
